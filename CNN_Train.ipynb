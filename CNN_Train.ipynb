{
 "cells": [
  {
   "cell_type": "code",
   "execution_count": 2,
   "id": "ca2bf3dd",
   "metadata": {},
   "outputs": [],
   "source": [
    "from tensorflow.keras.models import Sequential\n",
    "from tensorflow.keras.layers import Dense, Convolution2D, MaxPooling2D, Flatten"
   ]
  },
  {
   "cell_type": "code",
   "execution_count": 3,
   "id": "71b2c12c",
   "metadata": {},
   "outputs": [],
   "source": [
    "#augmenting the images by applying some more features, and rescaling\n",
    "from tensorflow.keras.preprocessing .image import ImageDataGenerator\n",
    "\n",
    "train_datagen = ImageDataGenerator(rescale=1./255, shear_range=0.2, zoom_range=0.2, horizontal_flip=True)\n",
    "test_datagen = ImageDataGenerator(rescale=1./255)"
   ]
  },
  {
   "cell_type": "code",
   "execution_count": 4,
   "id": "fd529079",
   "metadata": {},
   "outputs": [
    {
     "name": "stdout",
     "output_type": "stream",
     "text": [
      "Found 1495 images belonging to 5 classes.\n",
      "Found 640 images belonging to 5 classes.\n"
     ]
    }
   ],
   "source": [
    "x_train = train_datagen.flow_from_directory(r'/Users/riyagupta/Documents/SB_AI/Crop-animal data/trainset',target_size = (64,64),batch_size = 32,class_mode = \"categorical\")\n",
    "x_test = test_datagen.flow_from_directory(r'/Users/riyagupta/Documents/SB_AI/Crop-animal data/testset',target_size = (64,64),batch_size = 32,class_mode = \"categorical\")"
   ]
  },
  {
   "cell_type": "code",
   "execution_count": 5,
   "id": "9d4270cb",
   "metadata": {},
   "outputs": [
    {
     "data": {
      "text/plain": [
       "{'bears': 0, 'crows': 1, 'elephants': 2, 'racoons': 3, 'rats': 4}"
      ]
     },
     "execution_count": 5,
     "metadata": {},
     "output_type": "execute_result"
    }
   ],
   "source": [
    "x_train.class_indices"
   ]
  },
  {
   "cell_type": "code",
   "execution_count": 6,
   "id": "7ac21ccc",
   "metadata": {},
   "outputs": [],
   "source": [
    "model = Sequential()"
   ]
  },
  {
   "cell_type": "code",
   "execution_count": 7,
   "id": "788a24a5",
   "metadata": {},
   "outputs": [],
   "source": [
    "model.add(Convolution2D(32,(3,3),input_shape=(64,64,3)))"
   ]
  },
  {
   "cell_type": "code",
   "execution_count": 8,
   "id": "1d659933",
   "metadata": {},
   "outputs": [],
   "source": [
    "model.add(MaxPooling2D((2,2)))"
   ]
  },
  {
   "cell_type": "code",
   "execution_count": 9,
   "id": "ffc9c5a4",
   "metadata": {},
   "outputs": [],
   "source": [
    "model.add(Flatten())"
   ]
  },
  {
   "cell_type": "code",
   "execution_count": 15,
   "id": "fb3ff2dd",
   "metadata": {},
   "outputs": [],
   "source": [
    "model.add(Dense(units=128, kernel_initializer=\"random_uniform\", activation=\"relu\"))"
   ]
  },
  {
   "cell_type": "code",
   "execution_count": 16,
   "id": "dfa16543",
   "metadata": {},
   "outputs": [],
   "source": [
    "model.add(Dense(units=5, kernel_initializer=\"random_uniform\", activation=\"softmax\"))"
   ]
  },
  {
   "cell_type": "code",
   "execution_count": 17,
   "id": "f1ce014b",
   "metadata": {},
   "outputs": [],
   "source": [
    "model.compile(optimizer= \"adam\", loss= \"categorical_crossentropy\", metrics= [\"accuracy\"])"
   ]
  },
  {
   "cell_type": "code",
   "execution_count": 18,
   "id": "42174873",
   "metadata": {},
   "outputs": [
    {
     "name": "stdout",
     "output_type": "stream",
     "text": [
      "Epoch 1/10\n",
      "47/47 [==============================] - 13s 264ms/step - loss: 1.5416 - accuracy: 0.7204 - val_loss: 1.4096 - val_accuracy: 0.7563\n",
      "Epoch 2/10\n",
      "47/47 [==============================] - 9s 190ms/step - loss: 1.2381 - accuracy: 0.7880 - val_loss: 0.9340 - val_accuracy: 0.8266\n",
      "Epoch 3/10\n",
      "47/47 [==============================] - 8s 162ms/step - loss: 0.8469 - accuracy: 0.7987 - val_loss: 0.5942 - val_accuracy: 0.8438\n",
      "Epoch 4/10\n",
      "47/47 [==============================] - 8s 172ms/step - loss: 0.6423 - accuracy: 0.8154 - val_loss: 0.4424 - val_accuracy: 0.8844\n",
      "Epoch 5/10\n",
      "47/47 [==============================] - 8s 168ms/step - loss: 0.4859 - accuracy: 0.8562 - val_loss: 0.6437 - val_accuracy: 0.7766\n",
      "Epoch 6/10\n",
      "47/47 [==============================] - 8s 163ms/step - loss: 0.5135 - accuracy: 0.8428 - val_loss: 0.4627 - val_accuracy: 0.8672\n",
      "Epoch 7/10\n",
      "47/47 [==============================] - 8s 164ms/step - loss: 0.4210 - accuracy: 0.8796 - val_loss: 0.3739 - val_accuracy: 0.8922\n",
      "Epoch 8/10\n",
      "47/47 [==============================] - 8s 176ms/step - loss: 0.3079 - accuracy: 0.9151 - val_loss: 0.2591 - val_accuracy: 0.9219\n",
      "Epoch 9/10\n",
      "47/47 [==============================] - 9s 183ms/step - loss: 0.3183 - accuracy: 0.9064 - val_loss: 0.2834 - val_accuracy: 0.9203\n",
      "Epoch 10/10\n",
      "47/47 [==============================] - 9s 184ms/step - loss: 0.3123 - accuracy: 0.9097 - val_loss: 0.3196 - val_accuracy: 0.9062\n"
     ]
    },
    {
     "data": {
      "text/plain": [
       "<tensorflow.python.keras.callbacks.History at 0x7fb0d0936b80>"
      ]
     },
     "execution_count": 18,
     "metadata": {},
     "output_type": "execute_result"
    }
   ],
   "source": [
    "#steps_per_epoch = no:ofimagesintrainset/batchsize, validation_steps=no:ofimagesintrainset/batchsize\n",
    "model.fit_generator(x_train, steps_per_epoch = 47, epochs=10, validation_data=x_test, validation_steps=20)"
   ]
  },
  {
   "cell_type": "code",
   "execution_count": 19,
   "id": "b4f1d912",
   "metadata": {},
   "outputs": [],
   "source": [
    "model.save(\"animal.h5\")"
   ]
  },
  {
   "cell_type": "code",
   "execution_count": null,
   "id": "e02a9819",
   "metadata": {},
   "outputs": [],
   "source": []
  }
 ],
 "metadata": {
  "kernelspec": {
   "display_name": "Python 3",
   "language": "python",
   "name": "python3"
  },
  "language_info": {
   "codemirror_mode": {
    "name": "ipython",
    "version": 3
   },
   "file_extension": ".py",
   "mimetype": "text/x-python",
   "name": "python",
   "nbconvert_exporter": "python",
   "pygments_lexer": "ipython3",
   "version": "3.8.8"
  }
 },
 "nbformat": 4,
 "nbformat_minor": 5
}
