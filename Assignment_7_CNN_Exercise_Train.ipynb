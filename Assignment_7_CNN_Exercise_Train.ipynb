{
 "cells": [
  {
   "cell_type": "code",
   "execution_count": 1,
   "id": "80d4c547",
   "metadata": {},
   "outputs": [],
   "source": [
    "from tensorflow.keras.models import Sequential\n",
    "from tensorflow.keras.layers import Dense, Convolution2D, MaxPooling2D, Flatten"
   ]
  },
  {
   "cell_type": "code",
   "execution_count": 22,
   "id": "9fb779e5",
   "metadata": {},
   "outputs": [],
   "source": [
    "from tensorflow.keras.preprocessing.image import ImageDataGenerator\n",
    "\n",
    "train_datagen = ImageDataGenerator(rescale=1./255, shear_range=0.2, zoom_range=0.2, horizontal_flip=True)\n",
    "test_datagen = ImageDataGenerator(rescale=1./255)"
   ]
  },
  {
   "cell_type": "code",
   "execution_count": 24,
   "id": "46720d4a",
   "metadata": {},
   "outputs": [
    {
     "name": "stdout",
     "output_type": "stream",
     "text": [
      "Found 148 images belonging to 2 classes.\n",
      "Found 40 images belonging to 2 classes.\n"
     ]
    }
   ],
   "source": [
    "x_train = train_datagen.flow_from_directory(r'/Users/riyagupta/Documents/SB_AI/xray_dataset_covid19/train',target_size = (64,64),batch_size = 32,class_mode = \"binary\")\n",
    "x_test = test_datagen.flow_from_directory(r'/Users/riyagupta/Documents/SB_AI/xray_dataset_covid19/test',target_size = (64,64),batch_size = 32,class_mode = \"binary\")"
   ]
  },
  {
   "cell_type": "code",
   "execution_count": 25,
   "id": "91f3d1cd",
   "metadata": {},
   "outputs": [
    {
     "data": {
      "text/plain": [
       "{'NORMAL': 0, 'PNEUMONIA': 1}"
      ]
     },
     "execution_count": 25,
     "metadata": {},
     "output_type": "execute_result"
    }
   ],
   "source": [
    "x_train.class_indices"
   ]
  },
  {
   "cell_type": "code",
   "execution_count": 40,
   "id": "15a3e5bf",
   "metadata": {},
   "outputs": [],
   "source": [
    "model = Sequential()"
   ]
  },
  {
   "cell_type": "code",
   "execution_count": 41,
   "id": "f8c786f1",
   "metadata": {},
   "outputs": [],
   "source": [
    "model.add(Convolution2D(32,(3,3),input_shape=(64,64,3)))"
   ]
  },
  {
   "cell_type": "code",
   "execution_count": 42,
   "id": "cf846242",
   "metadata": {},
   "outputs": [],
   "source": [
    "model.add(MaxPooling2D((2,2)))"
   ]
  },
  {
   "cell_type": "code",
   "execution_count": 43,
   "id": "9c3174d8",
   "metadata": {},
   "outputs": [],
   "source": [
    "model.add(Flatten())"
   ]
  },
  {
   "cell_type": "code",
   "execution_count": 44,
   "id": "bbe3a3e5",
   "metadata": {},
   "outputs": [],
   "source": [
    "model.add(Dense(units=128, kernel_initializer=\"random_uniform\", activation=\"relu\"))"
   ]
  },
  {
   "cell_type": "code",
   "execution_count": 45,
   "id": "2f9e8f96",
   "metadata": {},
   "outputs": [],
   "source": [
    "model.add(Dense(units=1, kernel_initializer=\"random_uniform\", activation=\"sigmoid\"))"
   ]
  },
  {
   "cell_type": "code",
   "execution_count": 46,
   "id": "bd27f1c9",
   "metadata": {},
   "outputs": [],
   "source": [
    "model.compile(optimizer= \"adam\", loss= \"binary_crossentropy\", metrics= [\"accuracy\"])"
   ]
  },
  {
   "cell_type": "code",
   "execution_count": 48,
   "id": "3942342a",
   "metadata": {},
   "outputs": [
    {
     "name": "stdout",
     "output_type": "stream",
     "text": [
      "Epoch 1/20\n",
      "5/5 [==============================] - 6s 1s/step - loss: 0.1690 - accuracy: 0.9595 - val_loss: 0.0575 - val_accuracy: 1.0000\n",
      "Epoch 2/20\n",
      "5/5 [==============================] - 5s 1s/step - loss: 0.1730 - accuracy: 0.9459 - val_loss: 0.1081 - val_accuracy: 0.9500\n",
      "Epoch 3/20\n",
      "5/5 [==============================] - 5s 1s/step - loss: 0.1736 - accuracy: 0.9392 - val_loss: 0.0548 - val_accuracy: 0.9750\n",
      "Epoch 4/20\n",
      "5/5 [==============================] - 5s 1s/step - loss: 0.1661 - accuracy: 0.9527 - val_loss: 0.0444 - val_accuracy: 1.0000\n",
      "Epoch 5/20\n",
      "5/5 [==============================] - 5s 1s/step - loss: 0.1420 - accuracy: 0.9324 - val_loss: 0.0828 - val_accuracy: 0.9750\n",
      "Epoch 6/20\n",
      "5/5 [==============================] - 5s 1s/step - loss: 0.1758 - accuracy: 0.9392 - val_loss: 0.0702 - val_accuracy: 0.9750\n",
      "Epoch 7/20\n",
      "5/5 [==============================] - 5s 1s/step - loss: 0.1600 - accuracy: 0.9459 - val_loss: 0.0469 - val_accuracy: 1.0000\n",
      "Epoch 8/20\n",
      "5/5 [==============================] - 5s 1s/step - loss: 0.2005 - accuracy: 0.9189 - val_loss: 0.0520 - val_accuracy: 0.9750\n",
      "Epoch 9/20\n",
      "5/5 [==============================] - 6s 1s/step - loss: 0.1662 - accuracy: 0.9257 - val_loss: 0.0955 - val_accuracy: 0.9750\n",
      "Epoch 10/20\n",
      "5/5 [==============================] - 7s 1s/step - loss: 0.1423 - accuracy: 0.9527 - val_loss: 0.0473 - val_accuracy: 1.0000\n",
      "Epoch 11/20\n",
      "5/5 [==============================] - 5s 1s/step - loss: 0.1406 - accuracy: 0.9527 - val_loss: 0.0572 - val_accuracy: 0.9750\n",
      "Epoch 12/20\n",
      "5/5 [==============================] - 5s 1s/step - loss: 0.1112 - accuracy: 0.9662 - val_loss: 0.0782 - val_accuracy: 0.9750\n",
      "Epoch 13/20\n",
      "5/5 [==============================] - 5s 1s/step - loss: 0.1513 - accuracy: 0.9459 - val_loss: 0.0449 - val_accuracy: 1.0000\n",
      "Epoch 14/20\n",
      "5/5 [==============================] - 5s 1s/step - loss: 0.1249 - accuracy: 0.9527 - val_loss: 0.0655 - val_accuracy: 0.9750\n",
      "Epoch 15/20\n",
      "5/5 [==============================] - 5s 1s/step - loss: 0.1472 - accuracy: 0.9459 - val_loss: 0.0865 - val_accuracy: 0.9750\n",
      "Epoch 16/20\n",
      "5/5 [==============================] - 5s 1s/step - loss: 0.1138 - accuracy: 0.9662 - val_loss: 0.0658 - val_accuracy: 0.9750\n",
      "Epoch 17/20\n",
      "5/5 [==============================] - 5s 1s/step - loss: 0.1215 - accuracy: 0.9662 - val_loss: 0.0432 - val_accuracy: 1.0000\n",
      "Epoch 18/20\n",
      "5/5 [==============================] - 5s 1s/step - loss: 0.1320 - accuracy: 0.9392 - val_loss: 0.0700 - val_accuracy: 0.9750\n",
      "Epoch 19/20\n",
      "5/5 [==============================] - 5s 1s/step - loss: 0.1464 - accuracy: 0.9527 - val_loss: 0.0584 - val_accuracy: 0.9750\n",
      "Epoch 20/20\n",
      "5/5 [==============================] - 5s 1s/step - loss: 0.0937 - accuracy: 0.9730 - val_loss: 0.0931 - val_accuracy: 0.9500\n"
     ]
    },
    {
     "data": {
      "text/plain": [
       "<tensorflow.python.keras.callbacks.History at 0x7fa4bdb23910>"
      ]
     },
     "execution_count": 48,
     "metadata": {},
     "output_type": "execute_result"
    }
   ],
   "source": [
    "model.fit(x_train, epochs=20, validation_data=x_test)"
   ]
  },
  {
   "cell_type": "code",
   "execution_count": 50,
   "id": "8587afec",
   "metadata": {},
   "outputs": [],
   "source": [
    "model.save(\"covidtest.h5\")"
   ]
  },
  {
   "cell_type": "code",
   "execution_count": null,
   "id": "6f9550fb",
   "metadata": {},
   "outputs": [],
   "source": []
  }
 ],
 "metadata": {
  "kernelspec": {
   "display_name": "Python 3",
   "language": "python",
   "name": "python3"
  },
  "language_info": {
   "codemirror_mode": {
    "name": "ipython",
    "version": 3
   },
   "file_extension": ".py",
   "mimetype": "text/x-python",
   "name": "python",
   "nbconvert_exporter": "python",
   "pygments_lexer": "ipython3",
   "version": "3.8.8"
  }
 },
 "nbformat": 4,
 "nbformat_minor": 5
}
