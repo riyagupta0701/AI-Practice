{
 "cells": [
  {
   "cell_type": "code",
   "execution_count": 1,
   "id": "475c435a",
   "metadata": {},
   "outputs": [],
   "source": [
    "import pandas as pd\n",
    "import numpy as np"
   ]
  },
  {
   "cell_type": "code",
   "execution_count": 2,
   "id": "2e173e2e",
   "metadata": {},
   "outputs": [],
   "source": [
    "dataset = pd.read_csv(\"IMDB_Dataset.csv\")"
   ]
  },
  {
   "cell_type": "code",
   "execution_count": 3,
   "id": "c81e16c4",
   "metadata": {},
   "outputs": [
    {
     "name": "stderr",
     "output_type": "stream",
     "text": [
      "[nltk_data] Downloading package stopwords to\n",
      "[nltk_data]     /Users/riyagupta/nltk_data...\n",
      "[nltk_data]   Package stopwords is already up-to-date!\n"
     ]
    }
   ],
   "source": [
    "import re\n",
    "import nltk\n",
    "nltk.download(\"stopwords\")\n",
    "from nltk.corpus import stopwords\n",
    "from nltk.stem.porter import PorterStemmer\n",
    "ps = PorterStemmer()"
   ]
  },
  {
   "cell_type": "code",
   "execution_count": 4,
   "id": "3d1bff3f",
   "metadata": {},
   "outputs": [],
   "source": [
    "data = []"
   ]
  },
  {
   "cell_type": "code",
   "execution_count": 6,
   "id": "25e557bf",
   "metadata": {},
   "outputs": [],
   "source": [
    "for i in range(0, 50000):\n",
    "    info = dataset[\"review\"][i]\n",
    "    info = re.sub('[^a-zA-Z]', ' ', info)\n",
    "    info = info.lower()\n",
    "    info = info.split()\n",
    "    \n",
    "    info = [ps.stem(word) for word in info if not word in set(stopwords.words('english'))]\n",
    "    info = ' '.join(info)\n",
    "    data.append(info)"
   ]
  },
  {
   "cell_type": "code",
   "execution_count": 7,
   "id": "50f415f5",
   "metadata": {},
   "outputs": [],
   "source": [
    "from sklearn.feature_extraction.text import CountVectorizer"
   ]
  },
  {
   "cell_type": "code",
   "execution_count": 8,
   "id": "62a3a775",
   "metadata": {},
   "outputs": [],
   "source": [
    "cv = CountVectorizer(max_features=2500)\n",
    "x = cv.fit_transform(data).toarray()\n",
    "y = dataset.iloc[:,1:2].values"
   ]
  },
  {
   "cell_type": "code",
   "execution_count": 11,
   "id": "63341808",
   "metadata": {},
   "outputs": [
    {
     "data": {
      "text/plain": [
       "(51347, 2500)"
      ]
     },
     "execution_count": 11,
     "metadata": {},
     "output_type": "execute_result"
    }
   ],
   "source": [
    "x.shape"
   ]
  },
  {
   "cell_type": "code",
   "execution_count": 12,
   "id": "d90aad64",
   "metadata": {},
   "outputs": [
    {
     "data": {
      "text/plain": [
       "(50000, 1)"
      ]
     },
     "execution_count": 12,
     "metadata": {},
     "output_type": "execute_result"
    }
   ],
   "source": [
    "y.shape"
   ]
  },
  {
   "cell_type": "code",
   "execution_count": 14,
   "id": "2a3186bd",
   "metadata": {},
   "outputs": [],
   "source": [
    "x = x[0:50000]"
   ]
  },
  {
   "cell_type": "code",
   "execution_count": 15,
   "id": "623bc61e",
   "metadata": {},
   "outputs": [
    {
     "data": {
      "text/plain": [
       "(50000, 2500)"
      ]
     },
     "execution_count": 15,
     "metadata": {},
     "output_type": "execute_result"
    }
   ],
   "source": [
    "x.shape"
   ]
  },
  {
   "cell_type": "code",
   "execution_count": 16,
   "id": "414be591",
   "metadata": {},
   "outputs": [],
   "source": [
    "from sklearn.model_selection import train_test_split\n",
    "x_train, x_test, y_train, y_test = train_test_split(x,y,test_size=0.2,random_state=0)"
   ]
  },
  {
   "cell_type": "code",
   "execution_count": 17,
   "id": "eb9f65a4",
   "metadata": {},
   "outputs": [
    {
     "name": "stderr",
     "output_type": "stream",
     "text": [
      "/opt/anaconda3/lib/python3.8/site-packages/sklearn/utils/validation.py:63: DataConversionWarning: A column-vector y was passed when a 1d array was expected. Please change the shape of y to (n_samples, ), for example using ravel().\n",
      "  return f(*args, **kwargs)\n"
     ]
    }
   ],
   "source": [
    "from sklearn.preprocessing import LabelEncoder\n",
    "le = LabelEncoder()\n",
    "y_train = le.fit_transform(y_train)\n",
    "y_test = le.fit_transform(y_test)"
   ]
  },
  {
   "cell_type": "code",
   "execution_count": 18,
   "id": "ecdd8018",
   "metadata": {},
   "outputs": [
    {
     "name": "stdout",
     "output_type": "stream",
     "text": [
      "[1 0 0 ... 1 1 0]\n"
     ]
    }
   ],
   "source": [
    "print(y_test)"
   ]
  },
  {
   "cell_type": "code",
   "execution_count": 19,
   "id": "74a69648",
   "metadata": {},
   "outputs": [],
   "source": [
    "from tensorflow.keras.models import Sequential\n",
    "from tensorflow.keras.layers import Dense"
   ]
  },
  {
   "cell_type": "code",
   "execution_count": 20,
   "id": "c029824a",
   "metadata": {},
   "outputs": [
    {
     "name": "stdout",
     "output_type": "stream",
     "text": [
      "Epoch 1/5\n",
      "1250/1250 [==============================] - 358s 285ms/step - loss: 0.8176 - accuracy: 0.5013\n",
      "Epoch 2/5\n",
      "1250/1250 [==============================] - 398s 318ms/step - loss: 0.6921 - accuracy: 0.5403\n",
      "Epoch 3/5\n",
      "1250/1250 [==============================] - 447s 358ms/step - loss: 0.5616 - accuracy: 0.7259\n",
      "Epoch 4/5\n",
      "1250/1250 [==============================] - 470s 376ms/step - loss: 0.2876 - accuracy: 0.9028\n",
      "Epoch 5/5\n",
      "1250/1250 [==============================] - 488s 390ms/step - loss: 0.1954 - accuracy: 0.9543\n"
     ]
    },
    {
     "data": {
      "text/plain": [
       "<tensorflow.python.keras.callbacks.History at 0x7ff810b770a0>"
      ]
     },
     "execution_count": 20,
     "metadata": {},
     "output_type": "execute_result"
    }
   ],
   "source": [
    "model = Sequential()\n",
    "model.add(Dense(units = 2500, kernel_initializer = \"random_uniform\", activation = \"relu\"))\n",
    "model.add(Dense(units = 5000, kernel_initializer = \"random_uniform\", activation = \"relu\"))\n",
    "model.add(Dense(units = 5000, kernel_initializer = \"random_uniform\", activation = \"relu\"))\n",
    "model.add(Dense(units = 1, kernel_initializer = \"random_uniform\", activation = \"sigmoid\"))\n",
    "model.compile(optimizer = \"rmsprop\", loss = \"binary_crossentropy\", metrics = ['accuracy'])\n",
    "model.fit(x_train, y_train, epochs = 5)"
   ]
  },
  {
   "cell_type": "code",
   "execution_count": 21,
   "id": "5a650560",
   "metadata": {},
   "outputs": [],
   "source": [
    "pred = model.predict(x_test)\n",
    "pred = pred>0.5"
   ]
  },
  {
   "cell_type": "code",
   "execution_count": 22,
   "id": "16f56686",
   "metadata": {},
   "outputs": [
    {
     "data": {
      "text/plain": [
       "array([[False],\n",
       "       [ True],\n",
       "       [False],\n",
       "       ...,\n",
       "       [ True],\n",
       "       [False],\n",
       "       [False]])"
      ]
     },
     "execution_count": 22,
     "metadata": {},
     "output_type": "execute_result"
    }
   ],
   "source": [
    "pred"
   ]
  },
  {
   "cell_type": "code",
   "execution_count": 23,
   "id": "6fd2aafd",
   "metadata": {},
   "outputs": [],
   "source": [
    "yp = model.predict(cv.transform([\"bad\"]))"
   ]
  },
  {
   "cell_type": "code",
   "execution_count": 24,
   "id": "908ecc63",
   "metadata": {},
   "outputs": [
    {
     "data": {
      "text/plain": [
       "array([[0.5008688]], dtype=float32)"
      ]
     },
     "execution_count": 24,
     "metadata": {},
     "output_type": "execute_result"
    }
   ],
   "source": [
    "yp"
   ]
  },
  {
   "cell_type": "code",
   "execution_count": 25,
   "id": "d6a69316",
   "metadata": {},
   "outputs": [
    {
     "data": {
      "text/plain": [
       "array([[ True]])"
      ]
     },
     "execution_count": 25,
     "metadata": {},
     "output_type": "execute_result"
    }
   ],
   "source": [
    "yp>0.5"
   ]
  },
  {
   "cell_type": "code",
   "execution_count": 26,
   "id": "d8534ece",
   "metadata": {},
   "outputs": [],
   "source": [
    "#row 8 - positive\n",
    "text = \"I sure would like to see a resurrection of a up dated Seahunt series with the tech they have today it would bring back the kid excitement in me.I grew up on black and white TV and Seahunt with Gunsmoke were my hero's every week.You have my vote for a comeback of a new sea hunt.We need a change of pace in TV and this would work for a world of under water adventure.Oh by the way thank you for an outlet like this to view many viewpoints about TV and the many movies.So any ole way I believe I've got what I wanna say.Would be nice to read some more plus points about sea hunt.If my rhymes would be 10 lines would you let me submit,or leave me out to be in doubt and have me to quit,If this is so then I must go so lets do it.\"\n",
    "\n",
    "text = re.sub('[^a-zA-Z]', ' ', text)\n",
    "text = text.lower()\n",
    "text = text.split()\n",
    "\n",
    "text = [ps.stem(word) for word in text if not word in set(stopwords.words('english'))]\n",
    "text = ' '.join(text)"
   ]
  },
  {
   "cell_type": "code",
   "execution_count": 27,
   "id": "342befe8",
   "metadata": {},
   "outputs": [
    {
     "data": {
      "text/plain": [
       "array([[ True]])"
      ]
     },
     "execution_count": 27,
     "metadata": {},
     "output_type": "execute_result"
    }
   ],
   "source": [
    "yp = model.predict(cv.transform([text]))\n",
    "yp>0.5"
   ]
  },
  {
   "cell_type": "code",
   "execution_count": null,
   "id": "075081a4",
   "metadata": {},
   "outputs": [],
   "source": []
  }
 ],
 "metadata": {
  "kernelspec": {
   "display_name": "Python 3",
   "language": "python",
   "name": "python3"
  },
  "language_info": {
   "codemirror_mode": {
    "name": "ipython",
    "version": 3
   },
   "file_extension": ".py",
   "mimetype": "text/x-python",
   "name": "python",
   "nbconvert_exporter": "python",
   "pygments_lexer": "ipython3",
   "version": "3.8.8"
  }
 },
 "nbformat": 4,
 "nbformat_minor": 5
}
