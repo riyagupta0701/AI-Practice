{
 "cells": [
  {
   "cell_type": "code",
   "execution_count": 1,
   "id": "e7656f29",
   "metadata": {},
   "outputs": [],
   "source": [
    "import numpy"
   ]
  },
  {
   "cell_type": "code",
   "execution_count": 2,
   "id": "b6c92086",
   "metadata": {},
   "outputs": [],
   "source": [
    "list = [1,2,3,4]\n",
    "a = numpy.array(list)"
   ]
  },
  {
   "cell_type": "code",
   "execution_count": 3,
   "id": "69efdadb",
   "metadata": {},
   "outputs": [
    {
     "data": {
      "text/plain": [
       "numpy.ndarray"
      ]
     },
     "execution_count": 3,
     "metadata": {},
     "output_type": "execute_result"
    }
   ],
   "source": [
    "type(a)"
   ]
  },
  {
   "cell_type": "code",
   "execution_count": 2,
   "id": "c154eefa",
   "metadata": {},
   "outputs": [],
   "source": [
    "import numpy as np"
   ]
  },
  {
   "cell_type": "code",
   "execution_count": 5,
   "id": "cc2fb1da",
   "metadata": {},
   "outputs": [],
   "source": [
    "a = np.array(list)"
   ]
  },
  {
   "cell_type": "code",
   "execution_count": 6,
   "id": "fb00888e",
   "metadata": {},
   "outputs": [],
   "source": [
    "from numpy import*"
   ]
  },
  {
   "cell_type": "code",
   "execution_count": 7,
   "id": "b35957d8",
   "metadata": {},
   "outputs": [],
   "source": [
    "a = array(list)"
   ]
  },
  {
   "cell_type": "code",
   "execution_count": 8,
   "id": "ebc1eb93",
   "metadata": {},
   "outputs": [
    {
     "data": {
      "text/plain": [
       "numpy.ndarray"
      ]
     },
     "execution_count": 8,
     "metadata": {},
     "output_type": "execute_result"
    }
   ],
   "source": [
    "type(a)"
   ]
  },
  {
   "cell_type": "code",
   "execution_count": 9,
   "id": "6f04efd5",
   "metadata": {},
   "outputs": [
    {
     "name": "stdout",
     "output_type": "stream",
     "text": [
      "[1 2 3 4]\n"
     ]
    }
   ],
   "source": [
    "print(a)"
   ]
  },
  {
   "cell_type": "code",
   "execution_count": 11,
   "id": "84d1b288",
   "metadata": {},
   "outputs": [
    {
     "data": {
      "text/plain": [
       "(4,)"
      ]
     },
     "execution_count": 11,
     "metadata": {},
     "output_type": "execute_result"
    }
   ],
   "source": [
    "a.shape #(rows,columns)"
   ]
  },
  {
   "cell_type": "code",
   "execution_count": 12,
   "id": "a915ae98",
   "metadata": {},
   "outputs": [
    {
     "data": {
      "text/plain": [
       "1"
      ]
     },
     "execution_count": 12,
     "metadata": {},
     "output_type": "execute_result"
    }
   ],
   "source": [
    "a.ndim #dimension"
   ]
  },
  {
   "cell_type": "code",
   "execution_count": 13,
   "id": "c7b04756",
   "metadata": {},
   "outputs": [
    {
     "data": {
      "text/plain": [
       "4"
      ]
     },
     "execution_count": 13,
     "metadata": {},
     "output_type": "execute_result"
    }
   ],
   "source": [
    "a.size #how many elements in the array"
   ]
  },
  {
   "cell_type": "code",
   "execution_count": 15,
   "id": "24a25059",
   "metadata": {},
   "outputs": [
    {
     "data": {
      "text/plain": [
       "1"
      ]
     },
     "execution_count": 15,
     "metadata": {},
     "output_type": "execute_result"
    }
   ],
   "source": [
    "min(a)"
   ]
  },
  {
   "cell_type": "code",
   "execution_count": 16,
   "id": "79f7c120",
   "metadata": {},
   "outputs": [
    {
     "data": {
      "text/plain": [
       "4"
      ]
     },
     "execution_count": 16,
     "metadata": {},
     "output_type": "execute_result"
    }
   ],
   "source": [
    "max(a)"
   ]
  },
  {
   "cell_type": "code",
   "execution_count": 17,
   "id": "ab156939",
   "metadata": {},
   "outputs": [],
   "source": [
    "list = [\"riya\", \"pradeepthi\", 2,3,4,5]"
   ]
  },
  {
   "cell_type": "code",
   "execution_count": 18,
   "id": "1358e4f3",
   "metadata": {},
   "outputs": [],
   "source": [
    "a = np.array(list)"
   ]
  },
  {
   "cell_type": "code",
   "execution_count": 19,
   "id": "3632853b",
   "metadata": {},
   "outputs": [
    {
     "name": "stdout",
     "output_type": "stream",
     "text": [
      "['riya' 'pradeepthi' '2' '3' '4' '5']\n"
     ]
    }
   ],
   "source": [
    "print(a)"
   ]
  },
  {
   "cell_type": "code",
   "execution_count": 20,
   "id": "5126111e",
   "metadata": {},
   "outputs": [
    {
     "data": {
      "text/plain": [
       "numpy.ndarray"
      ]
     },
     "execution_count": 20,
     "metadata": {},
     "output_type": "execute_result"
    }
   ],
   "source": [
    "type(a)"
   ]
  },
  {
   "cell_type": "code",
   "execution_count": 21,
   "id": "61f212d5",
   "metadata": {},
   "outputs": [
    {
     "data": {
      "text/plain": [
       "array(['riya', 'pradeepthi', '2', '3', '4', '5'], dtype='<U10')"
      ]
     },
     "execution_count": 21,
     "metadata": {},
     "output_type": "execute_result"
    }
   ],
   "source": [
    "a"
   ]
  },
  {
   "cell_type": "code",
   "execution_count": 22,
   "id": "a04b7ba9",
   "metadata": {},
   "outputs": [
    {
     "data": {
      "text/plain": [
       "array(['pradeepthi', '2', '3'], dtype='<U10')"
      ]
     },
     "execution_count": 22,
     "metadata": {},
     "output_type": "execute_result"
    }
   ],
   "source": [
    "a[1:4]"
   ]
  },
  {
   "cell_type": "code",
   "execution_count": 23,
   "id": "60093730",
   "metadata": {},
   "outputs": [],
   "source": [
    "list = [[1,2,3],[3,4,5],[6,7,8],[9,10,11]]"
   ]
  },
  {
   "cell_type": "code",
   "execution_count": 24,
   "id": "e76be202",
   "metadata": {},
   "outputs": [
    {
     "data": {
      "text/plain": [
       "[[1, 2, 3], [3, 4, 5], [6, 7, 8], [9, 10, 11]]"
      ]
     },
     "execution_count": 24,
     "metadata": {},
     "output_type": "execute_result"
    }
   ],
   "source": [
    "list"
   ]
  },
  {
   "cell_type": "code",
   "execution_count": 25,
   "id": "5a3a4dde",
   "metadata": {},
   "outputs": [],
   "source": [
    "arr_2d = np.array(list)"
   ]
  },
  {
   "cell_type": "code",
   "execution_count": 26,
   "id": "fbe05019",
   "metadata": {},
   "outputs": [
    {
     "data": {
      "text/plain": [
       "array([[ 1,  2,  3],\n",
       "       [ 3,  4,  5],\n",
       "       [ 6,  7,  8],\n",
       "       [ 9, 10, 11]])"
      ]
     },
     "execution_count": 26,
     "metadata": {},
     "output_type": "execute_result"
    }
   ],
   "source": [
    "arr_2d"
   ]
  },
  {
   "cell_type": "code",
   "execution_count": 28,
   "id": "9bf81456",
   "metadata": {},
   "outputs": [
    {
     "data": {
      "text/plain": [
       "(4, 3)"
      ]
     },
     "execution_count": 28,
     "metadata": {},
     "output_type": "execute_result"
    }
   ],
   "source": [
    "arr_2d.shape"
   ]
  },
  {
   "cell_type": "code",
   "execution_count": 29,
   "id": "c3319c2d",
   "metadata": {},
   "outputs": [
    {
     "data": {
      "text/plain": [
       "2"
      ]
     },
     "execution_count": 29,
     "metadata": {},
     "output_type": "execute_result"
    }
   ],
   "source": [
    "arr_2d.ndim"
   ]
  },
  {
   "cell_type": "code",
   "execution_count": 30,
   "id": "42977bee",
   "metadata": {},
   "outputs": [
    {
     "data": {
      "text/plain": [
       "array([1, 2, 3])"
      ]
     },
     "execution_count": 30,
     "metadata": {},
     "output_type": "execute_result"
    }
   ],
   "source": [
    "arr_2d[0]"
   ]
  },
  {
   "cell_type": "code",
   "execution_count": 34,
   "id": "990f4bb5",
   "metadata": {},
   "outputs": [
    {
     "data": {
      "text/plain": [
       "2"
      ]
     },
     "execution_count": 34,
     "metadata": {},
     "output_type": "execute_result"
    }
   ],
   "source": [
    "arr_2d[0][1]"
   ]
  },
  {
   "cell_type": "code",
   "execution_count": 36,
   "id": "1d247cd3",
   "metadata": {},
   "outputs": [
    {
     "data": {
      "text/plain": [
       "array([ 2,  4,  7, 10])"
      ]
     },
     "execution_count": 36,
     "metadata": {},
     "output_type": "execute_result"
    }
   ],
   "source": [
    "arr_2d[:,1] #[rows, columns]"
   ]
  },
  {
   "cell_type": "code",
   "execution_count": 37,
   "id": "c76d36c6",
   "metadata": {},
   "outputs": [
    {
     "data": {
      "text/plain": [
       "array([[ 7,  8],\n",
       "       [10, 11]])"
      ]
     },
     "execution_count": 37,
     "metadata": {},
     "output_type": "execute_result"
    }
   ],
   "source": [
    "arr_2d[2:,1:]"
   ]
  },
  {
   "cell_type": "code",
   "execution_count": 38,
   "id": "b9584fb5",
   "metadata": {},
   "outputs": [
    {
     "data": {
      "text/plain": [
       "array([1, 4, 8])"
      ]
     },
     "execution_count": 38,
     "metadata": {},
     "output_type": "execute_result"
    }
   ],
   "source": [
    "arr_2d.diagonal()"
   ]
  },
  {
   "cell_type": "code",
   "execution_count": 39,
   "id": "149ccdc8",
   "metadata": {},
   "outputs": [],
   "source": [
    "temp = [arr_2d[1,0], arr_2d[0,1], arr_2d[2,2]]"
   ]
  },
  {
   "cell_type": "code",
   "execution_count": 40,
   "id": "cfcc864d",
   "metadata": {},
   "outputs": [
    {
     "data": {
      "text/plain": [
       "[3, 2, 8]"
      ]
     },
     "execution_count": 40,
     "metadata": {},
     "output_type": "execute_result"
    }
   ],
   "source": [
    "temp"
   ]
  },
  {
   "cell_type": "code",
   "execution_count": 41,
   "id": "35a9ba5a",
   "metadata": {},
   "outputs": [
    {
     "data": {
      "text/plain": [
       "list"
      ]
     },
     "execution_count": 41,
     "metadata": {},
     "output_type": "execute_result"
    }
   ],
   "source": [
    "type(temp)"
   ]
  },
  {
   "cell_type": "code",
   "execution_count": 42,
   "id": "a6997006",
   "metadata": {},
   "outputs": [
    {
     "data": {
      "text/plain": [
       "array([3, 2, 8])"
      ]
     },
     "execution_count": 42,
     "metadata": {},
     "output_type": "execute_result"
    }
   ],
   "source": [
    "np.array(temp)"
   ]
  },
  {
   "cell_type": "code",
   "execution_count": 49,
   "id": "c09d7ab0",
   "metadata": {},
   "outputs": [],
   "source": [
    "list1 = [[\"Riya\", 19, \"1000000\", \"Engineer\"], [\"Riddhi\", 19, \"1000000\", \"Engineer\"], [\"Sonali\", 20, \"800000\", \"Data Analyst\"], [\"Sona\", 19, \"900000\", \"Scientist\"]]\n",
    "arr1 = np.array(list1)"
   ]
  },
  {
   "cell_type": "code",
   "execution_count": 50,
   "id": "6b755a93",
   "metadata": {},
   "outputs": [
    {
     "data": {
      "text/plain": [
       "array([['Riya', '19', '1000000', 'Engineer'],\n",
       "       ['Riddhi', '19', '1000000', 'Engineer'],\n",
       "       ['Sonali', '20', '800000', 'Data Analyst'],\n",
       "       ['Sona', '19', '900000', 'Scientist']], dtype='<U12')"
      ]
     },
     "execution_count": 50,
     "metadata": {},
     "output_type": "execute_result"
    }
   ],
   "source": [
    "arr1"
   ]
  },
  {
   "cell_type": "markdown",
   "id": "bc7eacb7",
   "metadata": {},
   "source": [
    "# Functions of Numpy Array"
   ]
  },
  {
   "cell_type": "markdown",
   "id": "7f09c304",
   "metadata": {},
   "source": [
    "1. ones\n",
    "2. zeros\n",
    "3. eye\n",
    "4. arange\n",
    "5. random.randint\n",
    "6. random.rand\n",
    "7. linspace\n",
    "8. reshape\n",
    "9. concatenate\n",
    "10. delete\n",
    "11. ravel\n",
    "12. flatten"
   ]
  },
  {
   "cell_type": "code",
   "execution_count": 51,
   "id": "db408904",
   "metadata": {},
   "outputs": [
    {
     "data": {
      "text/plain": [
       "array([1., 1., 1., 1., 1., 1., 1., 1., 1., 1., 1., 1., 1., 1., 1., 1., 1.,\n",
       "       1., 1., 1., 1., 1., 1., 1., 1., 1., 1., 1., 1., 1.])"
      ]
     },
     "execution_count": 51,
     "metadata": {},
     "output_type": "execute_result"
    }
   ],
   "source": [
    "np.ones(30) #create a 1d array with 1 elements wrt specified number"
   ]
  },
  {
   "cell_type": "code",
   "execution_count": 52,
   "id": "072e6280",
   "metadata": {},
   "outputs": [
    {
     "data": {
      "text/plain": [
       "array([[1., 1., 1., 1.],\n",
       "       [1., 1., 1., 1.],\n",
       "       [1., 1., 1., 1.],\n",
       "       [1., 1., 1., 1.],\n",
       "       [1., 1., 1., 1.]])"
      ]
     },
     "execution_count": 52,
     "metadata": {},
     "output_type": "execute_result"
    }
   ],
   "source": [
    "np.ones((5,4))"
   ]
  },
  {
   "cell_type": "code",
   "execution_count": 53,
   "id": "1d3a0c21",
   "metadata": {},
   "outputs": [
    {
     "data": {
      "text/plain": [
       "array([0., 0., 0., 0., 0., 0., 0., 0., 0., 0.])"
      ]
     },
     "execution_count": 53,
     "metadata": {},
     "output_type": "execute_result"
    }
   ],
   "source": [
    "np.zeros(10)"
   ]
  },
  {
   "cell_type": "code",
   "execution_count": 54,
   "id": "636b866a",
   "metadata": {},
   "outputs": [
    {
     "data": {
      "text/plain": [
       "array([[0., 0., 0., 0.],\n",
       "       [0., 0., 0., 0.],\n",
       "       [0., 0., 0., 0.],\n",
       "       [0., 0., 0., 0.],\n",
       "       [0., 0., 0., 0.]])"
      ]
     },
     "execution_count": 54,
     "metadata": {},
     "output_type": "execute_result"
    }
   ],
   "source": [
    "np.zeros((5,4))"
   ]
  },
  {
   "cell_type": "code",
   "execution_count": 55,
   "id": "645528d5",
   "metadata": {},
   "outputs": [
    {
     "data": {
      "text/plain": [
       "array([[1., 0., 0., 0., 0., 0., 0., 0., 0., 0.],\n",
       "       [0., 1., 0., 0., 0., 0., 0., 0., 0., 0.],\n",
       "       [0., 0., 1., 0., 0., 0., 0., 0., 0., 0.],\n",
       "       [0., 0., 0., 1., 0., 0., 0., 0., 0., 0.],\n",
       "       [0., 0., 0., 0., 1., 0., 0., 0., 0., 0.],\n",
       "       [0., 0., 0., 0., 0., 1., 0., 0., 0., 0.],\n",
       "       [0., 0., 0., 0., 0., 0., 1., 0., 0., 0.],\n",
       "       [0., 0., 0., 0., 0., 0., 0., 1., 0., 0.],\n",
       "       [0., 0., 0., 0., 0., 0., 0., 0., 1., 0.],\n",
       "       [0., 0., 0., 0., 0., 0., 0., 0., 0., 1.]])"
      ]
     },
     "execution_count": 55,
     "metadata": {},
     "output_type": "execute_result"
    }
   ],
   "source": [
    "np.eye(10)"
   ]
  },
  {
   "cell_type": "code",
   "execution_count": 57,
   "id": "6e6b96fb",
   "metadata": {},
   "outputs": [
    {
     "data": {
      "text/plain": [
       "array([ 0,  1,  2,  3,  4,  5,  6,  7,  8,  9, 10, 11, 12, 13, 14, 15, 16,\n",
       "       17, 18, 19])"
      ]
     },
     "execution_count": 57,
     "metadata": {},
     "output_type": "execute_result"
    }
   ],
   "source": [
    "np.arange(20) #creates a 1d array with a specified range and (step size)"
   ]
  },
  {
   "cell_type": "code",
   "execution_count": 59,
   "id": "238c9b7a",
   "metadata": {},
   "outputs": [
    {
     "data": {
      "text/plain": [
       "array([40, 42, 44, 46, 48])"
      ]
     },
     "execution_count": 59,
     "metadata": {},
     "output_type": "execute_result"
    }
   ],
   "source": [
    "np.arange(40,50,2)"
   ]
  },
  {
   "cell_type": "code",
   "execution_count": 63,
   "id": "a00e8f09",
   "metadata": {},
   "outputs": [
    {
     "data": {
      "text/plain": [
       "array([1.        , 1.05263158, 1.10526316, 1.15789474, 1.21052632,\n",
       "       1.26315789, 1.31578947, 1.36842105, 1.42105263, 1.47368421,\n",
       "       1.52631579, 1.57894737, 1.63157895, 1.68421053, 1.73684211,\n",
       "       1.78947368, 1.84210526, 1.89473684, 1.94736842, 2.        ])"
      ]
     },
     "execution_count": 63,
     "metadata": {},
     "output_type": "execute_result"
    }
   ],
   "source": [
    "np.linspace(1,2,20) #(start,end,elements) it creates linearly spaced elements given in a range"
   ]
  },
  {
   "cell_type": "code",
   "execution_count": 70,
   "id": "3a4c8959",
   "metadata": {},
   "outputs": [],
   "source": [
    "#reshape converts 1d to 2d\n",
    "a = np.arange(16)\n",
    "b = a.reshape(8,2) #give factors of number in the array"
   ]
  },
  {
   "cell_type": "code",
   "execution_count": 71,
   "id": "0ad361de",
   "metadata": {},
   "outputs": [
    {
     "data": {
      "text/plain": [
       "array([[ 0,  1],\n",
       "       [ 2,  3],\n",
       "       [ 4,  5],\n",
       "       [ 6,  7],\n",
       "       [ 8,  9],\n",
       "       [10, 11],\n",
       "       [12, 13],\n",
       "       [14, 15]])"
      ]
     },
     "execution_count": 71,
     "metadata": {},
     "output_type": "execute_result"
    }
   ],
   "source": [
    "b"
   ]
  },
  {
   "cell_type": "code",
   "execution_count": 74,
   "id": "24cb7031",
   "metadata": {},
   "outputs": [
    {
     "data": {
      "text/plain": [
       "10"
      ]
     },
     "execution_count": 74,
     "metadata": {},
     "output_type": "execute_result"
    }
   ],
   "source": [
    "np.random.randint(10,20) #single random value lies b/w 0, specified number [)"
   ]
  },
  {
   "cell_type": "code",
   "execution_count": 75,
   "id": "5ff3756d",
   "metadata": {},
   "outputs": [
    {
     "data": {
      "text/plain": [
       "array([18, 17, 11, 14, 17, 12])"
      ]
     },
     "execution_count": 75,
     "metadata": {},
     "output_type": "execute_result"
    }
   ],
   "source": [
    "np.random.randint(10,20,6) #integers"
   ]
  },
  {
   "cell_type": "code",
   "execution_count": 77,
   "id": "7b028345",
   "metadata": {},
   "outputs": [
    {
     "data": {
      "text/plain": [
       "array([[0.01286297, 0.71493973, 0.23332229, 0.92188119, 0.40162152],\n",
       "       [0.87046135, 0.19942519, 0.95417697, 0.04361508, 0.09649644],\n",
       "       [0.94519813, 0.92136437, 0.86483098, 0.05082094, 0.44575188],\n",
       "       [0.11705279, 0.97819607, 0.66815032, 0.35017095, 0.91828697]])"
      ]
     },
     "execution_count": 77,
     "metadata": {},
     "output_type": "execute_result"
    }
   ],
   "source": [
    "np.random.rand(4,5) #random values ranging from 0 to 1"
   ]
  },
  {
   "cell_type": "code",
   "execution_count": 93,
   "id": "59a6af9f",
   "metadata": {},
   "outputs": [
    {
     "name": "stdout",
     "output_type": "stream",
     "text": [
      "a:  [ 0  1  2  3  4  5  6  7  8  9 10 11 12 13 14 15] b:  [4.         4.05263158 4.10526316 4.15789474 4.21052632 4.26315789\n",
      " 4.31578947 4.36842105 4.42105263 4.47368421 4.52631579 4.57894737\n",
      " 4.63157895 4.68421053 4.73684211 4.78947368 4.84210526 4.89473684\n",
      " 4.94736842 5.        ] c:  [13 80 13 80  9 85 88 55 66]\n"
     ]
    }
   ],
   "source": [
    "a = np.arange(16)\n",
    "b = np.linspace(4,5,20)\n",
    "c = np.random.randint(9,95,9)\n",
    "print(\"a: \",a,\"b: \",b, \"c: \",c)"
   ]
  },
  {
   "cell_type": "code",
   "execution_count": 94,
   "id": "bb9bfdfd",
   "metadata": {},
   "outputs": [
    {
     "data": {
      "text/plain": [
       "array([[ 0,  1,  2,  3],\n",
       "       [ 4,  5,  6,  7],\n",
       "       [ 8,  9, 10, 11],\n",
       "       [12, 13, 14, 15]])"
      ]
     },
     "execution_count": 94,
     "metadata": {},
     "output_type": "execute_result"
    }
   ],
   "source": [
    "a.reshape(4,4)"
   ]
  },
  {
   "cell_type": "code",
   "execution_count": 95,
   "id": "3ee86453",
   "metadata": {},
   "outputs": [
    {
     "data": {
      "text/plain": [
       "16"
      ]
     },
     "execution_count": 95,
     "metadata": {},
     "output_type": "execute_result"
    }
   ],
   "source": [
    "a.size"
   ]
  },
  {
   "cell_type": "code",
   "execution_count": 100,
   "id": "f3bc0f55",
   "metadata": {},
   "outputs": [
    {
     "data": {
      "text/plain": [
       "array([[4.        , 4.05263158, 4.10526316, 4.15789474, 4.21052632],\n",
       "       [4.26315789, 4.31578947, 4.36842105, 4.42105263, 4.47368421],\n",
       "       [4.52631579, 4.57894737, 4.63157895, 4.68421053, 4.73684211],\n",
       "       [4.78947368, 4.84210526, 4.89473684, 4.94736842, 5.        ]])"
      ]
     },
     "execution_count": 100,
     "metadata": {},
     "output_type": "execute_result"
    }
   ],
   "source": [
    "b.reshape(4,5)"
   ]
  },
  {
   "cell_type": "code",
   "execution_count": 97,
   "id": "a66178c9",
   "metadata": {},
   "outputs": [
    {
     "data": {
      "text/plain": [
       "20"
      ]
     },
     "execution_count": 97,
     "metadata": {},
     "output_type": "execute_result"
    }
   ],
   "source": [
    "b.size"
   ]
  },
  {
   "cell_type": "code",
   "execution_count": 101,
   "id": "c8bb2a17",
   "metadata": {},
   "outputs": [
    {
     "data": {
      "text/plain": [
       "array([[13, 80, 13],\n",
       "       [80,  9, 85],\n",
       "       [88, 55, 66]])"
      ]
     },
     "execution_count": 101,
     "metadata": {},
     "output_type": "execute_result"
    }
   ],
   "source": [
    "c.reshape(3,3)"
   ]
  },
  {
   "cell_type": "code",
   "execution_count": 99,
   "id": "41615278",
   "metadata": {},
   "outputs": [
    {
     "data": {
      "text/plain": [
       "9"
      ]
     },
     "execution_count": 99,
     "metadata": {},
     "output_type": "execute_result"
    }
   ],
   "source": [
    "c.size"
   ]
  },
  {
   "cell_type": "code",
   "execution_count": 111,
   "id": "82bc1d70",
   "metadata": {},
   "outputs": [],
   "source": [
    "m = np.arange(9).reshape(3,3)"
   ]
  },
  {
   "cell_type": "code",
   "execution_count": 112,
   "id": "ce192973",
   "metadata": {},
   "outputs": [
    {
     "data": {
      "text/plain": [
       "array([[0, 1, 2],\n",
       "       [3, 4, 5],\n",
       "       [6, 7, 8]])"
      ]
     },
     "execution_count": 112,
     "metadata": {},
     "output_type": "execute_result"
    }
   ],
   "source": [
    "m"
   ]
  },
  {
   "cell_type": "code",
   "execution_count": 113,
   "id": "987eea0a",
   "metadata": {},
   "outputs": [],
   "source": [
    "n = np.linspace(10,12,9).reshape(3,3)"
   ]
  },
  {
   "cell_type": "code",
   "execution_count": 114,
   "id": "f669ea68",
   "metadata": {},
   "outputs": [
    {
     "data": {
      "text/plain": [
       "array([[10.  , 10.25, 10.5 ],\n",
       "       [10.75, 11.  , 11.25],\n",
       "       [11.5 , 11.75, 12.  ]])"
      ]
     },
     "execution_count": 114,
     "metadata": {},
     "output_type": "execute_result"
    }
   ],
   "source": [
    "n"
   ]
  },
  {
   "cell_type": "code",
   "execution_count": 115,
   "id": "c40d1a69",
   "metadata": {},
   "outputs": [],
   "source": [
    "o = np.concatenate((a,b)) #row concatenation (axis=0), default"
   ]
  },
  {
   "cell_type": "code",
   "execution_count": 117,
   "id": "974ac177",
   "metadata": {},
   "outputs": [
    {
     "data": {
      "text/plain": [
       "array([[ 0.  ,  1.  ,  2.  ],\n",
       "       [ 3.  ,  4.  ,  5.  ],\n",
       "       [ 6.  ,  7.  ,  8.  ],\n",
       "       [10.  , 10.25, 10.5 ],\n",
       "       [10.75, 11.  , 11.25],\n",
       "       [11.5 , 11.75, 12.  ]])"
      ]
     },
     "execution_count": 117,
     "metadata": {},
     "output_type": "execute_result"
    }
   ],
   "source": [
    "o"
   ]
  },
  {
   "cell_type": "code",
   "execution_count": 118,
   "id": "4b039e49",
   "metadata": {},
   "outputs": [],
   "source": [
    "p = np.concatenate((a,b), axis=1) # column concatenation (axis=1)"
   ]
  },
  {
   "cell_type": "code",
   "execution_count": 119,
   "id": "db4a5202",
   "metadata": {},
   "outputs": [
    {
     "data": {
      "text/plain": [
       "array([[ 0.  ,  1.  ,  2.  , 10.  , 10.25, 10.5 ],\n",
       "       [ 3.  ,  4.  ,  5.  , 10.75, 11.  , 11.25],\n",
       "       [ 6.  ,  7.  ,  8.  , 11.5 , 11.75, 12.  ]])"
      ]
     },
     "execution_count": 119,
     "metadata": {},
     "output_type": "execute_result"
    }
   ],
   "source": [
    "p"
   ]
  },
  {
   "cell_type": "code",
   "execution_count": 125,
   "id": "72f75eb0",
   "metadata": {},
   "outputs": [
    {
     "name": "stdout",
     "output_type": "stream",
     "text": [
      "helloworld\n"
     ]
    }
   ],
   "source": [
    "q = \"hello\"\n",
    "r = \"world\"\n",
    "print(q+r)"
   ]
  },
  {
   "cell_type": "code",
   "execution_count": 126,
   "id": "34c63bfd",
   "metadata": {},
   "outputs": [
    {
     "name": "stdout",
     "output_type": "stream",
     "text": [
      "hello\n",
      "world\n"
     ]
    }
   ],
   "source": [
    "print(q+ '\\n' +r)"
   ]
  },
  {
   "cell_type": "code",
   "execution_count": 122,
   "id": "2e7a625c",
   "metadata": {},
   "outputs": [],
   "source": [
    "e = np.delete(o,[1,2], axis=0)"
   ]
  },
  {
   "cell_type": "code",
   "execution_count": 123,
   "id": "06273f53",
   "metadata": {},
   "outputs": [
    {
     "data": {
      "text/plain": [
       "array([[ 0.  ,  1.  ,  2.  ],\n",
       "       [10.  , 10.25, 10.5 ],\n",
       "       [10.75, 11.  , 11.25],\n",
       "       [11.5 , 11.75, 12.  ]])"
      ]
     },
     "execution_count": 123,
     "metadata": {},
     "output_type": "execute_result"
    }
   ],
   "source": [
    "e"
   ]
  },
  {
   "cell_type": "code",
   "execution_count": 127,
   "id": "bc2c7334",
   "metadata": {},
   "outputs": [
    {
     "data": {
      "text/plain": [
       "array([[ 0.  ,  1.  ,  2.  , 10.  ],\n",
       "       [ 3.  ,  4.  ,  5.  , 10.75],\n",
       "       [ 6.  ,  7.  ,  8.  , 11.5 ]])"
      ]
     },
     "execution_count": 127,
     "metadata": {},
     "output_type": "execute_result"
    }
   ],
   "source": [
    "f = np.delete(p,[4,5], axis=1)\n",
    "f"
   ]
  },
  {
   "cell_type": "code",
   "execution_count": 130,
   "id": "ab860145",
   "metadata": {},
   "outputs": [
    {
     "data": {
      "text/plain": [
       "array([[ 0.  ,  1.  ,  2.  ],\n",
       "       [ 3.  ,  4.  ,  5.  ],\n",
       "       [ 6.  ,  7.  ,  8.  ],\n",
       "       [10.  , 10.25, 10.5 ],\n",
       "       [10.75, 11.  , 11.25],\n",
       "       [11.5 , 11.75, 12.  ]])"
      ]
     },
     "execution_count": 130,
     "metadata": {},
     "output_type": "execute_result"
    }
   ],
   "source": [
    "#Ravel and Flatten are used to convert 2d to 1d\n",
    "parent = o\n",
    "parent"
   ]
  },
  {
   "cell_type": "code",
   "execution_count": 129,
   "id": "eb5bdba4",
   "metadata": {},
   "outputs": [
    {
     "data": {
      "text/plain": [
       "array([ 0.  ,  1.  ,  2.  ,  3.  ,  4.  ,  5.  ,  6.  ,  7.  ,  8.  ,\n",
       "       10.  , 10.25, 10.5 , 10.75, 11.  , 11.25, 11.5 , 11.75, 12.  ])"
      ]
     },
     "execution_count": 129,
     "metadata": {},
     "output_type": "execute_result"
    }
   ],
   "source": [
    "ravelchild = parent.ravel()\n",
    "ravelchild"
   ]
  },
  {
   "cell_type": "code",
   "execution_count": 131,
   "id": "8e47b8be",
   "metadata": {},
   "outputs": [
    {
     "data": {
      "text/plain": [
       "array([ 0.  ,  1.  ,  2.  ,  3.  ,  4.  ,  5.  ,  6.  ,  7.  ,  8.  ,\n",
       "       10.  , 10.25, 10.5 , 10.75, 11.  , 11.25, 11.5 , 11.75, 12.  ])"
      ]
     },
     "execution_count": 131,
     "metadata": {},
     "output_type": "execute_result"
    }
   ],
   "source": [
    "flattenchild = parent.flatten()\n",
    "flattenchild"
   ]
  },
  {
   "cell_type": "code",
   "execution_count": 133,
   "id": "9c0ac462",
   "metadata": {},
   "outputs": [],
   "source": [
    "# Ravel takes the reference of parent array. You change anything in ravel child that gets reflected in parent array\n",
    "#Flatten copies the array. Any changes in flatten array will not reflect in parent array"
   ]
  },
  {
   "cell_type": "code",
   "execution_count": 135,
   "id": "a72e7433",
   "metadata": {},
   "outputs": [
    {
     "data": {
      "text/plain": [
       "array([   0.  , 2000.  ,    2.  ,    3.  ,    4.  ,    5.  ,    6.  ,\n",
       "          7.  ,    8.  ,   10.  ,   10.25,   10.5 ,   10.75,   11.  ,\n",
       "         11.25,   11.5 ,   11.75,   12.  ])"
      ]
     },
     "execution_count": 135,
     "metadata": {},
     "output_type": "execute_result"
    }
   ],
   "source": [
    "ravelchild[1] = 2000\n",
    "ravelchild"
   ]
  },
  {
   "cell_type": "code",
   "execution_count": 136,
   "id": "9514d005",
   "metadata": {},
   "outputs": [
    {
     "data": {
      "text/plain": [
       "array([[   0.  , 2000.  ,    2.  ],\n",
       "       [   3.  ,    4.  ,    5.  ],\n",
       "       [   6.  ,    7.  ,    8.  ],\n",
       "       [  10.  ,   10.25,   10.5 ],\n",
       "       [  10.75,   11.  ,   11.25],\n",
       "       [  11.5 ,   11.75,   12.  ]])"
      ]
     },
     "execution_count": 136,
     "metadata": {},
     "output_type": "execute_result"
    }
   ],
   "source": [
    "parent"
   ]
  },
  {
   "cell_type": "code",
   "execution_count": 137,
   "id": "c4523f0b",
   "metadata": {},
   "outputs": [
    {
     "data": {
      "text/plain": [
       "array([1000.  ,    1.  ,    2.  ,    3.  ,    4.  ,    5.  ,    6.  ,\n",
       "          7.  ,    8.  ,   10.  ,   10.25,   10.5 ,   10.75,   11.  ,\n",
       "         11.25,   11.5 ,   11.75,   12.  ])"
      ]
     },
     "execution_count": 137,
     "metadata": {},
     "output_type": "execute_result"
    }
   ],
   "source": [
    "flattenchild[0] = 1000\n",
    "flattenchild"
   ]
  },
  {
   "cell_type": "code",
   "execution_count": 139,
   "id": "1ff5151f",
   "metadata": {},
   "outputs": [
    {
     "data": {
      "text/plain": [
       "array([[   0.  , 2000.  ,    2.  ],\n",
       "       [   3.  ,    4.  ,    5.  ],\n",
       "       [   6.  ,    7.  ,    8.  ],\n",
       "       [  10.  ,   10.25,   10.5 ],\n",
       "       [  10.75,   11.  ,   11.25],\n",
       "       [  11.5 ,   11.75,   12.  ]])"
      ]
     },
     "execution_count": 139,
     "metadata": {},
     "output_type": "execute_result"
    }
   ],
   "source": [
    "parent"
   ]
  },
  {
   "cell_type": "code",
   "execution_count": 3,
   "id": "0ab567e2",
   "metadata": {},
   "outputs": [],
   "source": [
    "arr = np.array([[1,2,3],[4,5,6],[8,9,0]])"
   ]
  },
  {
   "cell_type": "code",
   "execution_count": 4,
   "id": "716d5401",
   "metadata": {},
   "outputs": [
    {
     "data": {
      "text/plain": [
       "array([5])"
      ]
     },
     "execution_count": 4,
     "metadata": {},
     "output_type": "execute_result"
    }
   ],
   "source": [
    "arr[1,1:2]"
   ]
  },
  {
   "cell_type": "code",
   "execution_count": null,
   "id": "12fe06d3",
   "metadata": {},
   "outputs": [],
   "source": []
  }
 ],
 "metadata": {
  "kernelspec": {
   "display_name": "Python 3",
   "language": "python",
   "name": "python3"
  },
  "language_info": {
   "codemirror_mode": {
    "name": "ipython",
    "version": 3
   },
   "file_extension": ".py",
   "mimetype": "text/x-python",
   "name": "python",
   "nbconvert_exporter": "python",
   "pygments_lexer": "ipython3",
   "version": "3.8.8"
  }
 },
 "nbformat": 4,
 "nbformat_minor": 5
}
